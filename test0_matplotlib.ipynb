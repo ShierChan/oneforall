{
 "cells": [
  {
   "cell_type": "markdown",
   "id": "ac43780d",
   "metadata": {},
   "source": [
    "# The Start"
   ]
  },
  {
   "cell_type": "code",
   "execution_count": 1,
   "id": "2cce3279",
   "metadata": {},
   "outputs": [],
   "source": [
    "from matplotlib import pyplot as plt\n",
    "import numpy as np\n",
    "%matplotlib qt5"
   ]
  },
  {
   "cell_type": "code",
   "execution_count": 2,
   "id": "441067ee",
   "metadata": {},
   "outputs": [],
   "source": [
    "x = np.linspace(-10,10,50)\n",
    "y = 2*x+1\n",
    "z = x**3"
   ]
  },
  {
   "cell_type": "code",
   "execution_count": 3,
   "id": "ae452390",
   "metadata": {
    "scrolled": false
   },
   "outputs": [
    {
     "data": {
      "text/plain": [
       "<matplotlib.legend.Legend at 0x2067e788160>"
      ]
     },
     "execution_count": 3,
     "metadata": {},
     "output_type": "execute_result"
    }
   ],
   "source": [
    "plt.figure()\n",
    "plt.plot(x,y,color='black',linestyle='--',label='two')\n",
    "plt.plot(x,z,color='purple',label='one')\n",
    "plt.legend()"
   ]
  },
  {
   "cell_type": "code",
   "execution_count": 4,
   "id": "eebed6ed",
   "metadata": {},
   "outputs": [],
   "source": [
    "#plt.figure()\n",
    "# plt.plot(x,z,color='purple')\n",
    "# plt.xlim(-2.5,2.5)\n",
    "# plt.ylim(-10,10)\n",
    "# plt.yticks([10,0,-10],\n",
    "#           [r'$nb$',r'$normal$',r'$shit$'])\n",
    "# ax=plt.gca()\n",
    "# ax.spines['left'].set_color('none')\n",
    "# ax.spines['bottom'].set_color('none')\n",
    "# ax.xaxis.set_ticks_position('top')\n",
    "# ax.yaxis.set_ticks_position('right')\n",
    "# ax.spines['right'].set_position(('data',0))\n",
    "# ax.spines['top'].set_position(('data',0))"
   ]
  },
  {
   "cell_type": "code",
   "execution_count": null,
   "id": "9b9da44c",
   "metadata": {},
   "outputs": [],
   "source": []
  },
  {
   "cell_type": "code",
   "execution_count": 5,
   "id": "f83cbf02",
   "metadata": {},
   "outputs": [],
   "source": [
    "plt.show()"
   ]
  },
  {
   "cell_type": "code",
   "execution_count": null,
   "id": "ecafff89",
   "metadata": {},
   "outputs": [],
   "source": []
  }
 ],
 "metadata": {
  "kernelspec": {
   "display_name": "oneforthree",
   "language": "python",
   "name": "oneforthree"
  },
  "language_info": {
   "codemirror_mode": {
    "name": "ipython",
    "version": 3
   },
   "file_extension": ".py",
   "mimetype": "text/x-python",
   "name": "python",
   "nbconvert_exporter": "python",
   "pygments_lexer": "ipython3",
   "version": "3.9.13"
  }
 },
 "nbformat": 4,
 "nbformat_minor": 5
}
